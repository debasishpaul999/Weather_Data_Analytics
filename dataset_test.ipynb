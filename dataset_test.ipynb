{
 "cells": [
  {
   "cell_type": "code",
   "execution_count": null,
   "id": "9a84d499",
   "metadata": {},
   "outputs": [],
   "source": [
    "import matplotlib.pyplot as plt\n",
    "import numpy as np\n",
    "import pandas as pd\n",
    "import seaborn as sns"
   ]
  },
  {
   "cell_type": "markdown",
   "id": "60845cfa",
   "metadata": {},
   "source": [
    "***Load and Inspect Data***"
   ]
  },
  {
   "cell_type": "code",
   "execution_count": null,
   "id": "b2ce2422",
   "metadata": {},
   "outputs": [],
   "source": [
    "# loaded the dataset and made a dataframe\n",
    "df = pd.read_csv('data\\test_weather.csv')\n",
    "df = pd.DataFrame(df)"
   ]
  },
  {
   "cell_type": "code",
   "execution_count": null,
   "id": "7608d2fc",
   "metadata": {},
   "outputs": [],
   "source": [
    "# gathering data info\n",
    "print('Data Samples: \\n',end='')\n",
    "print(df.head())"
   ]
  },
  {
   "cell_type": "code",
   "execution_count": null,
   "id": "3461a122",
   "metadata": {},
   "outputs": [],
   "source": [
    "print('\\n Data info:\\n')\n",
    "print(df.info())"
   ]
  },
  {
   "cell_type": "markdown",
   "id": "fafddcc5",
   "metadata": {},
   "source": [
    "***Data Cleaning***"
   ]
  },
  {
   "cell_type": "code",
   "execution_count": null,
   "id": "1075caff",
   "metadata": {},
   "outputs": [],
   "source": [
    "# handeling the missing values\n",
    "print('Missing value count: \\n')\n",
    "print(df.isnull().sum())"
   ]
  },
  {
   "cell_type": "code",
   "execution_count": null,
   "id": "031f2a12",
   "metadata": {},
   "outputs": [],
   "source": [
    "# replacing the missing values\n",
    "print(\"Replacing the missing values with appropiriate values: \\n\")\n",
    "df = df.fillna({\n",
    "    'Precip Type': 0\n",
    "})\n",
    "print(df.isnull().sum())"
   ]
  },
  {
   "cell_type": "code",
   "execution_count": null,
   "id": "3ff4a9d5",
   "metadata": {},
   "outputs": [],
   "source": [
    "# converting the date in the data to date time format\n",
    "df['Formatted Date'] = pd.to_datetime(df['Formatted Date'])\n",
    "print(df['Formatted Date'].head())"
   ]
  },
  {
   "cell_type": "code",
   "execution_count": null,
   "id": "aa8ad302",
   "metadata": {},
   "outputs": [],
   "source": [
    "# simplyfing column name\n",
    "df.rename(columns={\n",
    "    'Temperature (C)':'Temperature'\n",
    "},inplace = True)\n",
    "print(df.head())"
   ]
  },
  {
   "cell_type": "markdown",
   "id": "81f02541",
   "metadata": {},
   "source": [
    "***Descriptive Statistics with NumPy***"
   ]
  },
  {
   "cell_type": "code",
   "execution_count": null,
   "id": "b5dc0823",
   "metadata": {},
   "outputs": [],
   "source": [
    "# caculating basic statistics of the data\n",
    "print(\"Temperature -->\")\n",
    "print(f'mean: {np.mean(df['Temperature'].values):.2f}')\n",
    "print(f'median: {np.median(df['Temperature'].values):.2f}')\n",
    "print(f'standard deviation: {np.std(df['Temperature'].values):.2f}')"
   ]
  },
  {
   "cell_type": "code",
   "execution_count": null,
   "id": "c1a1bbd3",
   "metadata": {},
   "outputs": [],
   "source": [
    "print(\"Humidity -->\")\n",
    "print(f'mean: {np.mean(df['Humidity'].values):.2f}')\n",
    "print(f'median: {np.median(df['Humidity'].values):.2f}')\n",
    "print(f'standard deviation: {np.std(df['Humidity'].values):.2f}')"
   ]
  },
  {
   "cell_type": "code",
   "execution_count": null,
   "id": "b81e4672",
   "metadata": {},
   "outputs": [],
   "source": [
    "# print(\"Precipitation -->\")\n",
    "# print(f'mean: {np.mean(df['Precipitation'].values):.2f}')\n",
    "# print(f'median: {np.median(df['Precipitation'].values):.2f}')\n",
    "# print(f'standard deviation: {np.std(df['Precipitation'].values):.2f}')"
   ]
  },
  {
   "cell_type": "markdown",
   "id": "16aab9ae",
   "metadata": {},
   "source": [
    "***Monthly and Seasonal Analysis (Using Pandas Group By)***"
   ]
  },
  {
   "cell_type": "code",
   "execution_count": null,
   "id": "9103e6c6",
   "metadata": {},
   "outputs": [],
   "source": [
    "# creating month and year column\n",
    "df['Month'] = df['Formatted Date'].apply(lambda x:x.month)\n",
    "df['Year'] = df['Formatted Date'].apply(lambda x:x.year)\n",
    "print(df.head())"
   ]
  },
  {
   "cell_type": "code",
   "execution_count": null,
   "id": "303f4d02",
   "metadata": {},
   "outputs": [],
   "source": [
    "def get_season(month):\n",
    "  if month in [12, 1, 2]:\n",
    "    return 'Winter'\n",
    "  elif month in [3, 4, 5]:\n",
    "    return 'Spring'\n",
    "  elif month in [6, 7, 8]:\n",
    "    return 'Summer'\n",
    "  else:\n",
    "    return 'Autumn'\n",
    "  \n",
    "df['Season'] = df['Month'].apply(get_season)"
   ]
  },
  {
   "cell_type": "code",
   "execution_count": null,
   "id": "b25e38e8",
   "metadata": {},
   "outputs": [],
   "source": [
    "# grouping by months and comparing by average values of key metrics\n",
    "monthly_avg = df.groupby('Month')[['Temperature', 'Humidity']].mean()\n",
    "print(\"\\nMonthly Averages:\")\n",
    "print(monthly_avg)"
   ]
  },
  {
   "cell_type": "code",
   "execution_count": null,
   "id": "ff667b9f",
   "metadata": {},
   "outputs": [],
   "source": [
    "# grouping by seasons and comparing by average values of key metrics\n",
    "seasonal_avg = df.groupby('Season')[['Temperature', 'Humidity']].mean()\n",
    "print(\"\\nSeasonal Averages:\")\n",
    "print(seasonal_avg)"
   ]
  },
  {
   "cell_type": "markdown",
   "id": "5c041403",
   "metadata": {},
   "source": [
    "***Visualizations with Matplotlib***"
   ]
  },
  {
   "cell_type": "code",
   "execution_count": null,
   "id": "992cd7f8",
   "metadata": {},
   "outputs": [],
   "source": [
    "plt.figure(figsize=(10,5))\n",
    "monthly_trend = df.groupby(['Year', 'Month'])['Temperature'].mean().reset_index()\n",
    "plt.plot(pd.to_datetime(monthly_trend[['Year', 'Month']].assign(DAY=1)), monthly_trend['Temperature'], marker='o')\n",
    "plt.title('Average Monthly Temperature Over Time')\n",
    "plt.xlabel('Date')\n",
    "plt.ylabel('Temperature (°C)')\n",
    "plt.grid(True)\n",
    "plt.show()"
   ]
  },
  {
   "cell_type": "code",
   "execution_count": null,
   "id": "95eec6a1",
   "metadata": {},
   "outputs": [],
   "source": [
    "# plt.figure(figsize=(8,5))\n",
    "# plt.bar(monthly_avg.index, monthly_avg['Precipitation'], color='skyblue')\n",
    "# plt.title('Average Monthly Precipitation')\n",
    "# plt.xlabel('Month')\n",
    "# plt.ylabel('Precipitation (mm)')\n",
    "# plt.show()"
   ]
  },
  {
   "cell_type": "code",
   "execution_count": null,
   "id": "45168d91",
   "metadata": {},
   "outputs": [],
   "source": [
    "plt.figure(figsize=(8,5))\n",
    "plt.hist(df['Temperature'], bins=20, color='orange', edgecolor='black')\n",
    "plt.title('Temperature Distribution')\n",
    "plt.xlabel('Temperature (°C)')\n",
    "plt.ylabel('Frequency')\n",
    "plt.show()"
   ]
  },
  {
   "cell_type": "markdown",
   "id": "fe4fe302",
   "metadata": {},
   "source": [
    "***Identify Extreme Weather***"
   ]
  },
  {
   "cell_type": "code",
   "execution_count": null,
   "id": "abf6812a",
   "metadata": {},
   "outputs": [],
   "source": [
    "# finding extreme hot days\n",
    "extreme_hot = df[df['Temperature'] > df['Temperature'].mean() + 2 * df['Temperature'].std()]\n",
    "print(\"\\nExtreme Hot Days:\")\n",
    "print(extreme_hot[['Formatted Date', 'Temperature']].head())"
   ]
  },
  {
   "cell_type": "code",
   "execution_count": null,
   "id": "44ca8a89",
   "metadata": {},
   "outputs": [],
   "source": [
    "# finding extreme cold days\n",
    "extreme_cold = df[df['Temperature'] < df['Temperature'].mean() - 2 * df['Temperature'].std()]\n",
    "print(\"\\nExtreme Cold Days:\")\n",
    "print(extreme_cold[['Formatted Date', 'Temperature']].head())"
   ]
  },
  {
   "cell_type": "code",
   "execution_count": null,
   "id": "c5afe540",
   "metadata": {},
   "outputs": [],
   "source": [
    "# # finding extreme rainy days\n",
    "# extreme_rain = df[df['Precipitation'] > df['Precipitation'].mean() + 2 * df['Precipitation'].std()]\n",
    "# print(\"\\nExtreme Rainy Days:\")\n",
    "# print(extreme_cold[['Formatted Date', 'Precipitation']].head())"
   ]
  }
 ],
 "metadata": {
  "kernelspec": {
   "display_name": ".venv",
   "language": "python",
   "name": "python3"
  },
  "language_info": {
   "codemirror_mode": {
    "name": "ipython",
    "version": 3
   },
   "file_extension": ".py",
   "mimetype": "text/x-python",
   "name": "python",
   "nbconvert_exporter": "python",
   "pygments_lexer": "ipython3",
   "version": "3.12.10"
  }
 },
 "nbformat": 4,
 "nbformat_minor": 5
}
